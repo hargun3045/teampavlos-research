{
 "cells": [
  {
   "cell_type": "code",
   "execution_count": 1,
   "metadata": {},
   "outputs": [],
   "source": [
    "# Import stuff\n",
    "\n",
    "import numpy as np\n",
    "import pandas as pd\n",
    "import matplotlib.pyplot as plt\n",
    "\n",
    "#import tensorflow \n",
    "import tensorflow as tf\n",
    "# You can avoid the long names by using\n",
    "from tensorflow import keras\n",
    "from tensorflow.keras import layers\n",
    "from tensorflow.keras import models\n",
    "%matplotlib inline\n",
    "import pdb"
   ]
  },
  {
   "cell_type": "code",
   "execution_count": 44,
   "metadata": {},
   "outputs": [],
   "source": [
    "# Reparametrize\n",
    "def reparametrize(t):\n",
    "\n",
    "#     return 1+tf.math.multiply(t**2,mlp(t))\n",
    "    return 1+tf.math.multiply((1-np.exp(-t))**2,mlp(t))\n",
    "#    return 1+np.multiply(t,mlp(t))pdb"
   ]
  },
  {
   "cell_type": "code",
   "execution_count": 70,
   "metadata": {},
   "outputs": [],
   "source": [
    "# 2 tapes\n",
    "\n",
    "def matrixloss(batch):\n",
    "#     pdb.set_trace()\n",
    "    batch = tf.convert_to_tensor(batch.reshape(-1,1),dtype='float32')\n",
    "    batch = tf.Variable(batch)\n",
    "    with tf.GradientTape() as outtape:\n",
    "        with tf.GradientTape() as intape:\n",
    "    # forward pass - show the actual computation of the variable\n",
    "            x = reparametrize(batch)\n",
    "        dx = intape.gradient(x,batch)\n",
    "    d2x = outtape.gradient(dx,batch)\n",
    "    \n",
    "    \n",
    "    def custom_loss(x_true,x_pred):\n",
    "        x = reparametrize(batch)\n",
    "        loss = tf.reduce_mean((d2x+x)**2)\n",
    "        return loss\n",
    "    \n",
    "    return custom_loss   "
   ]
  },
  {
   "cell_type": "code",
   "execution_count": 101,
   "metadata": {},
   "outputs": [],
   "source": [
    "# 2 tapes\n",
    "\n",
    "def pavloss(batch,eta=0):\n",
    "#     pdb.set_trace()\n",
    "    batch = batch = tf.convert_to_tensor(batch.reshape(-1,1),dtype='float32')\n",
    "    batch = tf.Variable(batch)\n",
    "    with tf.GradientTape() as outtape:\n",
    "        with tf.GradientTape() as intape:\n",
    "    # forward pass - show the actual computation of the variable\n",
    "            x = reparametrize(batch)\n",
    "        dx = intape.gradient(x,batch)\n",
    "    d2x = outtape.gradient(dx,batch)\n",
    "    \n",
    "    # Computation of the posterior anterior variation\n",
    "    batch = tf.convert_to_tensor(batch)\n",
    "    nt = batch.shape[0]\n",
    "    x = tf.convert_to_tensor(x)\n",
    "    tpa = tf.exp(-(tf.broadcast_to(batch, [nt,nt]) - tf.reshape(batch,[-1]))**2)\n",
    "    xpa = (tf.broadcast_to(x, [nt,nt]) - tf.reshape(x,[-1]))**2\n",
    "    pav = eta*tf.reduce_mean(tpa*xpa)\n",
    "    \n",
    "    \n",
    "    def custom_loss(x_true,x_pred):\n",
    "        x = reparametrize(batch)\n",
    "        loss = tf.reduce_mean((d2x+x)**2)\n",
    "        return pav+loss\n",
    "#         return pav+loss,pav,loss       \n",
    "    \n",
    "    return custom_loss   "
   ]
  },
  {
   "cell_type": "code",
   "execution_count": 100,
   "metadata": {},
   "outputs": [],
   "source": [
    "# 2 tapes\n",
    "\n",
    "def pavloss2(batch,eta=0):\n",
    "#     pdb.set_trace()\n",
    "    batch = batch = tf.convert_to_tensor(batch.reshape(-1,1),dtype='float32')\n",
    "    batch = tf.Variable(batch)\n",
    "    with tf.GradientTape() as outtape:\n",
    "        with tf.GradientTape() as intape:\n",
    "    # forward pass - show the actual computation of the variable\n",
    "            x = reparametrize(batch)\n",
    "        dx = intape.gradient(x,batch)\n",
    "    d2x = outtape.gradient(dx,batch)\n",
    "    \n",
    "    # Computation of the posterior anterior variation\n",
    "    batch = tf.convert_to_tensor(batch)\n",
    "    nt = batch.shape[0]\n",
    "    x = tf.convert_to_tensor(x)\n",
    "    tpa = tf.exp(-(tf.broadcast_to(batch, [nt,nt]) - tf.reshape(batch,[-1]))**2)\n",
    "    xpa = tf.reduce_mean(tf.math.multiply((tf.broadcast_to(x,[nt,nt])*tf.reshape(x,[-1,1])),tf.ones([nt,nt]) - tf.eye(nt)))\n",
    "    pav = eta*tf.reduce_mean(tpa*xpa)\n",
    "    \n",
    "    \n",
    "    def custom_loss(x_true,x_pred):\n",
    "        x = reparametrize(batch)\n",
    "        loss = tf.reduce_mean((d2x+x)**2)\n",
    "        return pav+loss\n",
    "#         return pav+loss,pav,loss       \n",
    "    \n",
    "    return custom_loss   "
   ]
  },
  {
   "cell_type": "code",
   "execution_count": 104,
   "metadata": {},
   "outputs": [
    {
     "data": {
      "text/plain": [
       "<tf.Tensor: shape=(), dtype=float32, numpy=0.19740991>"
      ]
     },
     "execution_count": 104,
     "metadata": {},
     "output_type": "execute_result"
    }
   ],
   "source": [
    "np.random.seed(0)\n",
    "# matrixloss(batch)(1,2)\n",
    "pavloss(batch,eta=1)(1,2)\n",
    "pavloss2(batch,eta=1)(1,2)"
   ]
  },
  {
   "cell_type": "code",
   "execution_count": 105,
   "metadata": {},
   "outputs": [],
   "source": [
    "## space definition\n",
    "\n",
    "nt = 512\n",
    "num_samples = 4\n",
    "batch_size = 128\n",
    "t_space = np.linspace(-2,8,nt)\n",
    "x = np.cos(-t_space)\n"
   ]
  },
  {
   "cell_type": "code",
   "execution_count": 91,
   "metadata": {},
   "outputs": [
    {
     "data": {
      "text/plain": [
       "<tf.Tensor: shape=(), dtype=float32, numpy=0.17571256>"
      ]
     },
     "execution_count": 91,
     "metadata": {},
     "output_type": "execute_result"
    }
   ],
   "source": [
    "np.random.seed(0)\n",
    "# matrixloss(np.random.choice(t_space,batch_size))(5,5)\n",
    "\n",
    "pavloss(np.random.choice(t_space,batch_size),eta=1)(5,5)"
   ]
  },
  {
   "cell_type": "code",
   "execution_count": 47,
   "metadata": {},
   "outputs": [],
   "source": [
    "## space definition\n",
    "\n",
    "nt = 16\n",
    "num_samples = 4\n",
    "batch_size = 4\n",
    "t_space = np.linspace(-2,8,nt)\n",
    "x = np.cos(-t_space)\n"
   ]
  },
  {
   "cell_type": "code",
   "execution_count": 48,
   "metadata": {},
   "outputs": [
    {
     "data": {
      "text/plain": [
       "[<matplotlib.lines.Line2D at 0x145986d60>]"
      ]
     },
     "execution_count": 48,
     "metadata": {},
     "output_type": "execute_result"
    },
    {
     "data": {
      "image/png": "[encoded data removed]",
      "text/plain": [
       "<Figure size 432x288 with 1 Axes>"
      ]
     },
     "metadata": {
      "needs_background": "light"
     },
     "output_type": "display_data"
    }
   ],
   "source": [
    "# Sample plot to see if everything is alright\n",
    "\n",
    "plt.plot(t_space,x)"
   ]
  },
  {
   "cell_type": "code",
   "execution_count": 106,
   "metadata": {},
   "outputs": [],
   "source": [
    "# Network model 1 - 4 - 4- 1\n",
    "\n",
    "mlp = keras.Sequential(\n",
    "    [\n",
    "        keras.layers.Dense(50, activation=tf.nn.tanh,dtype='float32'),\n",
    "        keras.layers.Dense(50, activation=tf.nn.tanh,dtype='float32'),        \n",
    "        keras.layers.Dense(1, activation=keras.activations.linear)\n",
    "    ]\n",
    ")"
   ]
  },
  {
   "cell_type": "code",
   "execution_count": null,
   "metadata": {},
   "outputs": [
    {
     "name": "stdout",
     "output_type": "stream",
     "text": [
      "Epoch: 0 Loss: 2.291353225708008\n",
      "Epoch: 100 Loss: 0.21916022896766663\n",
      "Epoch: 200 Loss: 0.22049392759799957\n",
      "Epoch: 300 Loss: 0.20910970866680145\n",
      "Epoch: 400 Loss: 0.1947597861289978\n"
     ]
    }
   ],
   "source": [
    "# Instantiate an optimizer.\n",
    "optimizer = tf.keras.optimizers.Adam(learning_rate=1e-3)\n",
    "\n",
    "loss_list = []\n",
    "\n",
    "num_epochs = 1000\n",
    "\n",
    "# Doing this for at least 100 epochs\n",
    "\n",
    "epochs = num_epochs\n",
    "\n",
    "for i in range(epochs):\n",
    "    \n",
    "    for sampling in range(num_samples):\n",
    "\n",
    "        batch = np.random.choice(t_space,batch_size)\n",
    "        # Open a GradientTape.\n",
    "        with tf.GradientTape() as tape:\n",
    "\n",
    "            # Loss value for this batch.\n",
    "#             loss = matrixloss(batch)(x, 5)\n",
    "            loss = pavloss(batch, eta=1)(1,2)\n",
    "\n",
    "\n",
    "        # Get gradients of weights wrt the loss.\n",
    "        gradients = tape.gradient(loss, mlp.trainable_weights)\n",
    "\n",
    "        # Update the weights of our linear layer.\n",
    "        optimizer.apply_gradients(zip(gradients, mlp.trainable_weights))\n",
    "\n",
    "        # Logging.\n",
    "    epoch_loss = pavloss(t_space)(1,2)\n",
    "    if i%100 ==0:\n",
    "        print(\"Epoch:\", i, \"Loss:\", float(epoch_loss))\n",
    "    loss_list.append(float(epoch_loss))"
   ]
  },
  {
   "cell_type": "code",
   "execution_count": null,
   "metadata": {},
   "outputs": [],
   "source": [
    "x_pred = reparametrize(t_space.reshape(-1,1))\n",
    "\n",
    "fig, ax = plt.subplots(1,2,figsize=(14,6))\n",
    "ax[0].plot(t_space, x,'-',linewidth=2,alpha=0.7, label = 'True function value', markersize = 10, color = 'red')\n",
    "ax[0].plot(t_space, x_pred,'o',linewidth=2, alpha=0.7, label='network predictions',markersize=4,color='darkblue')\n",
    "ax[0].set_xlabel('$t$',fontsize=24)\n",
    "ax[0].set_ylabel('$x$',fontsize=24)\n",
    "ax[0].legend();\n",
    "ax[0].set_title('$\\ddot{x} + x = 0$',fontsize=36);\n",
    "\n",
    "\n",
    "ax[1].plot(np.log10(loss_list))\n",
    "ax[1].set_title('Trace plot of loss',fontsize=23);\n",
    "ax[1].set_title('Trace plot',fontsize=24);\n",
    "ax[1].set_xlabel('$epochs$',fontsize=18)\n",
    "ax[1].set_ylabel('$log$ loss',fontsize=18)\n",
    "plt.tight_layout()"
   ]
  },
  {
   "cell_type": "code",
   "execution_count": 89,
   "metadata": {},
   "outputs": [
    {
     "data": {
      "image/png": "[encoded data removed]",
      "text/plain": [
       "<Figure size 1008x432 with 2 Axes>"
      ]
     },
     "metadata": {
      "needs_background": "light"
     },
     "output_type": "display_data"
    }
   ],
   "source": [
    "x_pred = reparametrize(t_space.reshape(-1,1))\n",
    "\n",
    "fig, ax = plt.subplots(1,2,figsize=(14,6))\n",
    "ax[0].plot(t_space, x,'-',linewidth=2,alpha=0.7, label = 'True function value', markersize = 10, color = 'red')\n",
    "ax[0].plot(t_space, x_pred,'o',linewidth=2, alpha=0.7, label='network predictions',markersize=4,color='darkblue')\n",
    "ax[0].set_xlabel('$t$',fontsize=24)\n",
    "ax[0].set_ylabel('$x$',fontsize=24)\n",
    "ax[0].legend();\n",
    "ax[0].set_title('$\\ddot{x} + x = 0$',fontsize=36);\n",
    "\n",
    "\n",
    "ax[1].plot(np.log10(loss_list))\n",
    "ax[1].set_title('Trace plot of loss',fontsize=23);\n",
    "ax[1].set_title('Trace plot',fontsize=24);\n",
    "ax[1].set_xlabel('$epochs$',fontsize=18)\n",
    "ax[1].set_ylabel('$log$ loss',fontsize=18)\n",
    "plt.tight_layout()"
   ]
  },
  {
   "cell_type": "code",
   "execution_count": 156,
   "metadata": {},
   "outputs": [],
   "source": [
    "# Network model 1 - 4 - 1\n",
    "\n",
    "mlp2 = keras.Sequential(\n",
    "    [\n",
    "        keras.layers.Dense(4, activation=tf.nn.tanh,dtype='float32'),\n",
    "#         keras.layers.Dense(4, activation=tf.nn.relu,dtype='float32'),        \n",
    "        keras.layers.Dense(1, activation=keras.activations.linear)\n",
    "    ]\n",
    ")"
   ]
  },
  {
   "cell_type": "code",
   "execution_count": 157,
   "metadata": {},
   "outputs": [],
   "source": [
    "# 2 tapes\n",
    "def matrixloss(batch):\n",
    "#     pdb.set_trace()\n",
    "    batch = batch = tf.convert_to_tensor(batch.reshape(-1,1),dtype='float32')\n",
    "    batch = tf.Variable(batch)\n",
    "    with tf.GradientTape() as outtape:\n",
    "        with tf.GradientTape() as intape:\n",
    "    # forward pass - show the actual computation of the variable\n",
    "            x = unbundle(batch)\n",
    "        dx = intape.gradient(x,batch)\n",
    "    d2x = outtape.gradient(dx,batch)\n",
    "    \n",
    "    \n",
    "    def custom_loss(x_true,x_pred):\n",
    "        x = unbundle(batch)\n",
    "        loss = tf.reduce_mean((d2x+x)**2)\n",
    "        return loss\n",
    "    \n",
    "    return custom_loss   "
   ]
  },
  {
   "cell_type": "code",
   "execution_count": 13,
   "metadata": {},
   "outputs": [],
   "source": [
    "# 2 tapes\n",
    "def pavloss(batch,switch=0,eta=0):\n",
    "#     pdb.set_trace()\n",
    "    batch = batch = tf.convert_to_tensor(batch.reshape(-1,1),dtype='float32')\n",
    "    batch = tf.Variable(batch)\n",
    "    with tf.GradientTape() as outtape:\n",
    "        with tf.GradientTape() as intape:\n",
    "    # forward pass - show the actual computation of the variable\n",
    "            x = reparametrize(batch)\n",
    "        dx = intape.gradient(x,batch)\n",
    "    d2x = outtape.gradient(dx,batch)\n",
    "    \n",
    "    # Computation of the posterior anterior variation\n",
    "    batch = tf.convert_to_tensor(batch)\n",
    "    nt = batch.shape[0]\n",
    "    x = tf.convert_to_tensor(x)\n",
    "    tpa = tf.exp(-(tf.broadcast_to(batch, [nt,nt]) - tf.reshape(batch,[-1]))**2)\n",
    "    xpa = (tf.broadcast_to(x, [nt,nt]) - tf.reshape(x,[-1]))**2\n",
    "    pav = eta*tf.reduce_mean(tpa*xpa)\n",
    "    \n",
    "    \n",
    "    def custom_loss(x_true,x_pred):\n",
    "        x = reparametrize(batch)\n",
    "        loss = tf.reduce_mean((d2x+x)**2)\n",
    "        if switch ==1:\n",
    "            return pav+loss        \n",
    "        return loss\n",
    "    \n",
    "    return custom_loss   "
   ]
  },
  {
   "cell_type": "code",
   "execution_count": 15,
   "metadata": {},
   "outputs": [
    {
     "name": "stdout",
     "output_type": "stream",
     "text": [
      "Epoch: 0 Loss: 1.211977481842041\n",
      "Epoch: 100 Loss: 0.05299052596092224\n",
      "Epoch: 200 Loss: 6.678401947021484\n",
      "Epoch: 300 Loss: 0.05697298049926758\n",
      "Epoch: 400 Loss: 0.04667867720127106\n",
      "Epoch: 500 Loss: 0.054684218019247055\n",
      "Epoch: 600 Loss: 0.050151385366916656\n",
      "Epoch: 700 Loss: 0.056395646184682846\n",
      "Epoch: 800 Loss: 0.05121709778904915\n",
      "Epoch: 900 Loss: 0.05289210379123688\n"
     ]
    }
   ],
   "source": [
    "# Instantiate an optimizer.\n",
    "optimizer = tf.keras.optimizers.Adam(learning_rate=1e-2)\n",
    "\n",
    "loss_list = []\n",
    "\n",
    "# Doing this for at least 100 epochs\n",
    "\n",
    "epochs = num_epochs\n",
    "\n",
    "for i in range(epochs):\n",
    "    \n",
    "    for sampling in range(num_samples):\n",
    "\n",
    "        batch = np.random.choice(t_space,batch_size)\n",
    "        # Open a GradientTape.\n",
    "        with tf.GradientTape() as tape:\n",
    "\n",
    "            # Loss value for this batch.\n",
    "#             loss = matrixloss(batch)(x, 5)\n",
    "            loss = pavloss(batch, switch=1, eta=10)(1,2)\n",
    "\n",
    "\n",
    "        # Get gradients of weights wrt the loss.\n",
    "        gradients = tape.gradient(loss, mlp.trainable_weights)\n",
    "\n",
    "        # Update the weights of our linear layer.\n",
    "        optimizer.apply_gradients(zip(gradients, mlp.trainable_weights))\n",
    "\n",
    "        # Logging.\n",
    "    epoch_loss = pavloss(t_space)(1,2)\n",
    "    if i%100 ==0:\n",
    "        print(\"Epoch:\", i, \"Loss:\", float(epoch_loss))\n",
    "    loss_list.append(float(epoch_loss))"
   ]
  },
  {
   "cell_type": "code",
   "execution_count": 22,
   "metadata": {},
   "outputs": [
    {
     "ename": "NameError",
     "evalue": "name 'unbundle' is not defined",
     "output_type": "error",
     "traceback": [
      "\u001b[0;31m---------------------------------------------------------------------------\u001b[0m",
      "\u001b[0;31mNameError\u001b[0m                                 Traceback (most recent call last)",
      "\u001b[0;32m<ipython-input-22-3c754b8ae729>\u001b[0m in \u001b[0;36m<module>\u001b[0;34m\u001b[0m\n\u001b[0;32m----> 1\u001b[0;31m \u001b[0mx_pred\u001b[0m \u001b[0;34m=\u001b[0m \u001b[0munbundle\u001b[0m\u001b[0;34m(\u001b[0m\u001b[0mtf\u001b[0m\u001b[0;34m.\u001b[0m\u001b[0mconstant\u001b[0m\u001b[0;34m(\u001b[0m\u001b[0mt_space\u001b[0m\u001b[0;34m.\u001b[0m\u001b[0mreshape\u001b[0m\u001b[0;34m(\u001b[0m\u001b[0;34m-\u001b[0m\u001b[0;36m1\u001b[0m\u001b[0;34m,\u001b[0m\u001b[0;36m1\u001b[0m\u001b[0;34m)\u001b[0m\u001b[0;34m,\u001b[0m\u001b[0mdtype\u001b[0m\u001b[0;34m=\u001b[0m\u001b[0;34m'float32'\u001b[0m\u001b[0;34m)\u001b[0m\u001b[0;34m)\u001b[0m\u001b[0;34m\u001b[0m\u001b[0;34m\u001b[0m\u001b[0m\n\u001b[0m\u001b[1;32m      2\u001b[0m \u001b[0;34m\u001b[0m\u001b[0m\n\u001b[1;32m      3\u001b[0m \u001b[0mfig\u001b[0m\u001b[0;34m,\u001b[0m \u001b[0max\u001b[0m \u001b[0;34m=\u001b[0m \u001b[0mplt\u001b[0m\u001b[0;34m.\u001b[0m\u001b[0msubplots\u001b[0m\u001b[0;34m(\u001b[0m\u001b[0;36m1\u001b[0m\u001b[0;34m,\u001b[0m\u001b[0;36m2\u001b[0m\u001b[0;34m,\u001b[0m\u001b[0mfigsize\u001b[0m\u001b[0;34m=\u001b[0m\u001b[0;34m(\u001b[0m\u001b[0;36m14\u001b[0m\u001b[0;34m,\u001b[0m\u001b[0;36m6\u001b[0m\u001b[0;34m)\u001b[0m\u001b[0;34m)\u001b[0m\u001b[0;34m\u001b[0m\u001b[0;34m\u001b[0m\u001b[0m\n\u001b[1;32m      4\u001b[0m \u001b[0max\u001b[0m\u001b[0;34m[\u001b[0m\u001b[0;36m0\u001b[0m\u001b[0;34m]\u001b[0m\u001b[0;34m.\u001b[0m\u001b[0mplot\u001b[0m\u001b[0;34m(\u001b[0m\u001b[0mt_space\u001b[0m\u001b[0;34m,\u001b[0m \u001b[0mx\u001b[0m\u001b[0;34m,\u001b[0m\u001b[0;34m'o-'\u001b[0m\u001b[0;34m,\u001b[0m\u001b[0mlinewidth\u001b[0m\u001b[0;34m=\u001b[0m\u001b[0;36m2\u001b[0m\u001b[0;34m,\u001b[0m\u001b[0malpha\u001b[0m\u001b[0;34m=\u001b[0m\u001b[0;36m0.7\u001b[0m\u001b[0;34m,\u001b[0m \u001b[0mlabel\u001b[0m \u001b[0;34m=\u001b[0m \u001b[0;34m'True function value'\u001b[0m\u001b[0;34m,\u001b[0m \u001b[0mmarkersize\u001b[0m \u001b[0;34m=\u001b[0m \u001b[0;36m10\u001b[0m\u001b[0;34m,\u001b[0m \u001b[0mcolor\u001b[0m \u001b[0;34m=\u001b[0m \u001b[0;34m'red'\u001b[0m\u001b[0;34m)\u001b[0m\u001b[0;34m\u001b[0m\u001b[0;34m\u001b[0m\u001b[0m\n\u001b[1;32m      5\u001b[0m \u001b[0max\u001b[0m\u001b[0;34m[\u001b[0m\u001b[0;36m0\u001b[0m\u001b[0;34m]\u001b[0m\u001b[0;34m.\u001b[0m\u001b[0mplot\u001b[0m\u001b[0;34m(\u001b[0m\u001b[0mt_space\u001b[0m\u001b[0;34m,\u001b[0m \u001b[0mx_pred\u001b[0m\u001b[0;34m,\u001b[0m\u001b[0;34m'-'\u001b[0m\u001b[0;34m,\u001b[0m\u001b[0mlinewidth\u001b[0m\u001b[0;34m=\u001b[0m\u001b[0;36m2\u001b[0m\u001b[0;34m,\u001b[0m \u001b[0malpha\u001b[0m\u001b[0;34m=\u001b[0m\u001b[0;36m0.7\u001b[0m\u001b[0;34m,\u001b[0m \u001b[0mlabel\u001b[0m\u001b[0;34m=\u001b[0m\u001b[0;34m'network predictions'\u001b[0m\u001b[0;34m,\u001b[0m\u001b[0mmarkersize\u001b[0m\u001b[0;34m=\u001b[0m\u001b[0;36m10\u001b[0m\u001b[0;34m,\u001b[0m\u001b[0mcolor\u001b[0m\u001b[0;34m=\u001b[0m\u001b[0;34m'darkblue'\u001b[0m\u001b[0;34m)\u001b[0m\u001b[0;34m\u001b[0m\u001b[0;34m\u001b[0m\u001b[0m\n",
      "\u001b[0;31mNameError\u001b[0m: name 'unbundle' is not defined"
     ]
    }
   ],
   "source": [
    "x_pred = unbundle(tf.constant(t_space.reshape(-1,1),dtype='float32'))\n",
    "                  \n",
    "fig, ax = plt.subplots(1,2,figsize=(14,6))\n",
    "ax[0].plot(t_space, x,'o-',linewidth=2,alpha=0.7, label = 'True function value', markersize = 10, color = 'red')\n",
    "ax[0].plot(t_space, x_pred,'-',linewidth=2, alpha=0.7, label='network predictions',markersize=10,color='darkblue')\n",
    "ax[0].set_xlabel('$t$',fontsize=24)\n",
    "ax[0].set_ylabel('$x$',fontsize=24)\n",
    "ax[0].legend();\n",
    "ax[0].set_title('$\\ddot{x} + x = 0$',fontsize=36);\n",
    "\n",
    "\n",
    "ax[1].plot(np.log10(loss_list))\n",
    "ax[1].set_title('Trace plot of loss',fontsize=23);\n",
    "ax[1].set_title('Trace plot',fontsize=24);\n",
    "ax[1].set_xlabel('$epochs$',fontsize=18)\n",
    "ax[1].set_ylabel('$loss$',fontsize=18)\n",
    "plt.tight_layout()"
   ]
  },
  {
   "cell_type": "code",
   "execution_count": null,
   "metadata": {},
   "outputs": [],
   "source": []
  }
 ],
 "metadata": {
  "kernelspec": {
   "display_name": "Python 3",
   "language": "python",
   "name": "python3"
  },
  "language_info": {
   "codemirror_mode": {
    "name": "ipython",
    "version": 3
   },
   "file_extension": ".py",
   "mimetype": "text/x-python",
   "name": "python",
   "nbconvert_exporter": "python",
   "pygments_lexer": "ipython3",
   "version": "3.8.3"
  }
 },
 "nbformat": 4,
 "nbformat_minor": 4
}
